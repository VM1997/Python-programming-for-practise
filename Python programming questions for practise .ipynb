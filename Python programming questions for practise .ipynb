{
 "cells": [
  {
   "cell_type": "markdown",
   "id": "79df9786",
   "metadata": {},
   "source": [
    "# The Following are the questions Which have been solved:"
   ]
  },
  {
   "cell_type": "code",
   "execution_count": null,
   "id": "cd6cecfe",
   "metadata": {},
   "outputs": [],
   "source": [
    "1# Program to Print First 10 Natural Numbers ✔️\n",
    "\n",
    "2# Printing the natural numbers from 1 to n ✔️\n",
    "\n",
    "3# Print First N Natural Number in Reverse Order ✔️\n",
    "\n",
    "4# Python Program to Find Sum of First n Natural Numbers ✔️\n",
    "\n",
    "5# Python Program to Find Sum of square of First n Natural Numbers ✔️\n",
    "\n",
    "6# Python Program to Find Sum of cube of First n Natural Numbers ✔️\n",
    "\n",
    "7# Python Program to Print Even Numbers from 1 to N - In Hindi ✔️\n",
    "\n",
    "8# Python Program to find Sum of Even Numbers from 1 to N ✔️\n",
    "\n",
    "9# Python Program to find Sum of square of Even Numbers from 1 to N ✔️\n",
    "\n",
    "10# Python Program to find First N Even Numbers ✔️\n",
    "\n",
    "11# Python Program to find Sum of First N Even Numbers ✔️\n",
    "\n",
    "12# Python Program to find First N odd Numbers ✔️\n",
    "\n",
    "13# Python Program to find Sum of First N odd Numbers ✔️\n",
    "\n",
    "14# Python Program to find Sum of Digits of a Given Number ✔️\n",
    "\n",
    "15# Python Program to find Sum of square of Digits of a Given Number ✔️\n",
    "\n",
    "16# Python Program to find Sum of cube of Digits of a Given Number ✔️\n",
    "\n",
    "17# Python Program to Find Product of Digits ✔️\n",
    "\n",
    "18# Python Program to Find Product of square of Digits ✔️\n",
    "\n",
    "19# Python Program to Find Product of cube of Digits ✔️\n",
    "\n",
    "20# Python Program to Reverse of a Number ✔️\n",
    "\n",
    "21# Prime Number in Python ✔️\n",
    "\n",
    "22# Factorial Program in Python ✔️\n",
    "\n",
    "23# Print Table of a N Number in Python ✔️\n",
    "\n",
    "24# Python Program to Count Frequency of a Number ✔️\n",
    "\n",
    "25# Find Max and Min Number in Python List ✔️\n",
    "\n",
    "26# Python Program to Reverse the List ✔️\n",
    "\n",
    "27# Python Program to Find Second Max, Second Min ✔️\n",
    "\n",
    "28# Binary Search in Python ✔️"
   ]
  },
  {
   "cell_type": "code",
   "execution_count": null,
   "id": "fd33c975",
   "metadata": {},
   "outputs": [],
   "source": []
  },
  {
   "cell_type": "markdown",
   "id": "a3210526",
   "metadata": {},
   "source": [
    "# SOLUTION "
   ]
  },
  {
   "cell_type": "code",
   "execution_count": 1,
   "id": "66320d59",
   "metadata": {},
   "outputs": [
    {
     "name": "stdout",
     "output_type": "stream",
     "text": [
      "1\n",
      "2\n",
      "3\n",
      "4\n",
      "5\n",
      "6\n",
      "7\n",
      "8\n",
      "9\n",
      "10\n"
     ]
    }
   ],
   "source": [
    "1# Program to Print First 10 Natural Numbers \n",
    "\n",
    "i=1\n",
    "n=10\n",
    "while i<=n:\n",
    "    print(i)\n",
    "    i=i+1\n",
    "    "
   ]
  },
  {
   "cell_type": "code",
   "execution_count": 3,
   "id": "d55010fe",
   "metadata": {},
   "outputs": [
    {
     "name": "stdout",
     "output_type": "stream",
     "text": [
      "1\n",
      "2\n",
      "3\n",
      "4\n",
      "5\n",
      "6\n",
      "7\n",
      "8\n",
      "9\n",
      "10\n"
     ]
    }
   ],
   "source": [
    "n=10\n",
    "for i in range(1,n+1):\n",
    "    print(i)"
   ]
  },
  {
   "cell_type": "markdown",
   "id": "d9be6499",
   "metadata": {},
   "source": []
  },
  {
   "cell_type": "markdown",
   "id": "bc711771",
   "metadata": {},
   "source": []
  },
  {
   "cell_type": "code",
   "execution_count": 4,
   "id": "62f7c434",
   "metadata": {},
   "outputs": [
    {
     "name": "stdout",
     "output_type": "stream",
     "text": [
      "enter the number12\n",
      "1\n",
      "2\n",
      "3\n",
      "4\n",
      "5\n",
      "6\n",
      "7\n",
      "8\n",
      "9\n",
      "10\n",
      "11\n",
      "12\n"
     ]
    }
   ],
   "source": [
    "2# Printing the natural numbers from 1 to n\n",
    "\n",
    "i=1\n",
    "n=int(input('enter the number'))\n",
    "while i<=n:\n",
    "    print(i)\n",
    "    i=i+1"
   ]
  },
  {
   "cell_type": "code",
   "execution_count": 7,
   "id": "0a21cf7c",
   "metadata": {},
   "outputs": [
    {
     "name": "stdout",
     "output_type": "stream",
     "text": [
      "enter the number12\n",
      "1\n",
      "2\n",
      "3\n",
      "4\n",
      "5\n",
      "6\n",
      "7\n",
      "8\n",
      "9\n",
      "10\n",
      "11\n",
      "12\n"
     ]
    }
   ],
   "source": [
    "\n",
    "n=int(input('enter the number'))\n",
    "for i in range(1,n+1):\n",
    "    print(i)"
   ]
  },
  {
   "cell_type": "markdown",
   "id": "50fbabab",
   "metadata": {},
   "source": []
  },
  {
   "cell_type": "markdown",
   "id": "f0bff95d",
   "metadata": {},
   "source": []
  },
  {
   "cell_type": "code",
   "execution_count": 8,
   "id": "3575daaa",
   "metadata": {},
   "outputs": [
    {
     "name": "stdout",
     "output_type": "stream",
     "text": [
      "enter the number8\n",
      "8\n",
      "7\n",
      "6\n",
      "5\n",
      "4\n",
      "3\n",
      "2\n",
      "1\n"
     ]
    }
   ],
   "source": [
    "3# Print First N Natural Number in Reverse Order\n",
    "\n",
    "n=int(input('enter the number'))\n",
    "i=1\n",
    "while n>=i:\n",
    "    print(n)\n",
    "    n=n-1"
   ]
  },
  {
   "cell_type": "code",
   "execution_count": 13,
   "id": "307fad04",
   "metadata": {},
   "outputs": [
    {
     "name": "stdout",
     "output_type": "stream",
     "text": [
      "enter the number6\n",
      "6\n",
      "5\n",
      "4\n",
      "3\n",
      "2\n",
      "1\n"
     ]
    }
   ],
   "source": [
    "n=int(input('enter the number'))\n",
    "k=1\n",
    "for i in range(n,k-1,-1):\n",
    "    print(i)"
   ]
  },
  {
   "cell_type": "markdown",
   "id": "ae8853ce",
   "metadata": {},
   "source": []
  },
  {
   "cell_type": "markdown",
   "id": "8770d0eb",
   "metadata": {},
   "source": []
  },
  {
   "cell_type": "code",
   "execution_count": 17,
   "id": "e4c828fa",
   "metadata": {},
   "outputs": [
    {
     "name": "stdout",
     "output_type": "stream",
     "text": [
      "enter the number 6\n",
      "The sum of first 6 natural numbers is 21\n"
     ]
    }
   ],
   "source": [
    "4# Python Program to Find Sum of First n Natural Numbers\n",
    "\n",
    "i=1\n",
    "n=int(input('enter the number '))\n",
    "sum=0\n",
    "while i<=n:\n",
    "    sum=sum+i\n",
    "    i=i+1\n",
    "print('The sum of first',n,'natural numbers is',sum)"
   ]
  },
  {
   "cell_type": "code",
   "execution_count": 20,
   "id": "d85a255b",
   "metadata": {},
   "outputs": [
    {
     "name": "stdout",
     "output_type": "stream",
     "text": [
      "enter the number 6\n",
      "The sum of first 6 natural numbers is 21\n"
     ]
    }
   ],
   "source": [
    "n=int(input('enter the number '))\n",
    "sum=0\n",
    "for i in range(1,n+1):\n",
    "    sum=sum+i\n",
    "print('The sum of first',n,'natural numbers is',sum)"
   ]
  },
  {
   "cell_type": "markdown",
   "id": "27fbf9ed",
   "metadata": {},
   "source": []
  },
  {
   "cell_type": "markdown",
   "id": "e26e8512",
   "metadata": {},
   "source": []
  },
  {
   "cell_type": "code",
   "execution_count": 22,
   "id": "246183da",
   "metadata": {},
   "outputs": [
    {
     "name": "stdout",
     "output_type": "stream",
     "text": [
      "enter the number 6\n",
      "The sum of square of first 6 natural number is 91\n"
     ]
    }
   ],
   "source": [
    "5# Python Program to Find Sum of square of First n Natural Numbers\n",
    "\n",
    "i=1\n",
    "n=int(input('enter the number '))\n",
    "sum=0\n",
    "while i<=n:\n",
    "    sum=sum+i*i\n",
    "    i=i+1\n",
    "print('The sum of square of first',n,'natural number is',sum)\n"
   ]
  },
  {
   "cell_type": "code",
   "execution_count": 25,
   "id": "b77edcb9",
   "metadata": {},
   "outputs": [
    {
     "name": "stdout",
     "output_type": "stream",
     "text": [
      "enter the number 6\n",
      "The sum of square of first 6 natural number is 91\n"
     ]
    }
   ],
   "source": [
    "n=int(input('enter the number '))\n",
    "sum=0\n",
    "for i in range(1,n+1):\n",
    "    sum=sum+i*i\n",
    "print('The sum of square of first',n,'natural number is',sum)\n",
    "    "
   ]
  },
  {
   "cell_type": "markdown",
   "id": "19139f2a",
   "metadata": {},
   "source": []
  },
  {
   "cell_type": "markdown",
   "id": "bbe32c09",
   "metadata": {},
   "source": []
  },
  {
   "cell_type": "code",
   "execution_count": 24,
   "id": "c0e77dbb",
   "metadata": {},
   "outputs": [
    {
     "name": "stdout",
     "output_type": "stream",
     "text": [
      "enter the number 6\n",
      "The sum of cube of first 6 natural number is 441\n"
     ]
    }
   ],
   "source": [
    "6# Python Program to Find Sum of cube of First n Natural Numbers\n",
    "\n",
    "i=1\n",
    "n=int(input('enter the number '))\n",
    "sum=0\n",
    "while i<=n:\n",
    "    sum=sum+i*i*i\n",
    "    i=i+1\n",
    "print('The sum of cube of first',n,'natural number is',sum)\n"
   ]
  },
  {
   "cell_type": "code",
   "execution_count": 26,
   "id": "f342cec7",
   "metadata": {},
   "outputs": [
    {
     "name": "stdout",
     "output_type": "stream",
     "text": [
      "enter the number 6\n",
      "The sum of cube of first 6 natural number is 441\n"
     ]
    }
   ],
   "source": [
    "n=int(input('enter the number '))\n",
    "sum=0\n",
    "for i in range(1,n+1):\n",
    "    sum=sum+i*i*i\n",
    "print('The sum of cube of first',n,'natural number is',sum)\n"
   ]
  },
  {
   "cell_type": "markdown",
   "id": "9b02c0b5",
   "metadata": {},
   "source": []
  },
  {
   "cell_type": "markdown",
   "id": "29d11b8d",
   "metadata": {},
   "source": []
  },
  {
   "cell_type": "code",
   "execution_count": 28,
   "id": "97178207",
   "metadata": {},
   "outputs": [
    {
     "name": "stdout",
     "output_type": "stream",
     "text": [
      "enter the number12\n",
      "2\n",
      "4\n",
      "6\n",
      "8\n",
      "10\n",
      "12\n"
     ]
    }
   ],
   "source": [
    "7# Python Program to Print Even Numbers from 1 to N - In Hindi\n",
    "\n",
    "i=2\n",
    "n=int(input('enter the number'))\n",
    "while i<=n:\n",
    "    print(i)\n",
    "    i=i+2"
   ]
  },
  {
   "cell_type": "code",
   "execution_count": 29,
   "id": "6aeb0170",
   "metadata": {},
   "outputs": [
    {
     "name": "stdout",
     "output_type": "stream",
     "text": [
      "enter the number12\n",
      "2\n",
      "4\n",
      "6\n",
      "8\n",
      "10\n",
      "12\n"
     ]
    }
   ],
   "source": [
    "n=int(input('enter the number'))\n",
    "for i in range(2,n+1,2):\n",
    "    print(i)"
   ]
  },
  {
   "cell_type": "markdown",
   "id": "dc69d20a",
   "metadata": {},
   "source": []
  },
  {
   "cell_type": "markdown",
   "id": "70cda3e1",
   "metadata": {},
   "source": []
  },
  {
   "cell_type": "code",
   "execution_count": 33,
   "id": "e635c78c",
   "metadata": {},
   "outputs": [
    {
     "name": "stdout",
     "output_type": "stream",
     "text": [
      "enter the number 12\n",
      "The sum of even numbers from 1 to 12 is 42\n"
     ]
    }
   ],
   "source": [
    "8# Python Program to find Sum of Even Numbers from 1 to N \n",
    "\n",
    "i=2\n",
    "n=int(input('enter the number '))\n",
    "sum=0\n",
    "while i<=n:\n",
    "    sum=sum+i\n",
    "    i=i+2\n",
    "print('The sum of even numbers from 1 to',n,'is',sum)"
   ]
  },
  {
   "cell_type": "code",
   "execution_count": 32,
   "id": "b498aa15",
   "metadata": {},
   "outputs": [
    {
     "name": "stdout",
     "output_type": "stream",
     "text": [
      "enter the number 12\n",
      "The sum of even numbers from 1 to 12 is 42\n"
     ]
    }
   ],
   "source": [
    "n=int(input('enter the number '))\n",
    "sum=0\n",
    "for i in range(2,n+1,2):\n",
    "    sum=sum+i\n",
    "print('The sum of even numbers from 1 to',n,'is',sum)"
   ]
  },
  {
   "cell_type": "markdown",
   "id": "cda32a35",
   "metadata": {},
   "source": []
  },
  {
   "cell_type": "markdown",
   "id": "f3dd3f4a",
   "metadata": {},
   "source": []
  },
  {
   "cell_type": "code",
   "execution_count": 34,
   "id": "2ec0ea71",
   "metadata": {},
   "outputs": [
    {
     "name": "stdout",
     "output_type": "stream",
     "text": [
      "enter the number 12\n",
      "The sum of square of even numbers from 1 to 12 is 364\n"
     ]
    }
   ],
   "source": [
    "9# Python Program to find Sum of square of Even Numbers from 1 to N \n",
    "\n",
    "\n",
    "i=2\n",
    "n=int(input('enter the number '))\n",
    "sum=0\n",
    "while i<=n:\n",
    "    sum=sum+i*i\n",
    "    i=i+2\n",
    "print('The sum of square of even numbers from 1 to',n,'is',sum)\n"
   ]
  },
  {
   "cell_type": "code",
   "execution_count": 35,
   "id": "32474bb7",
   "metadata": {},
   "outputs": [
    {
     "name": "stdout",
     "output_type": "stream",
     "text": [
      "enter the number 12\n",
      "The sum of square of even numbers from 1 to 12 is 364\n"
     ]
    }
   ],
   "source": [
    "n=int(input('enter the number '))\n",
    "sum=0\n",
    "for i in range(2,n+1,2):\n",
    "    sum=sum+i*i\n",
    "print('The sum of square of even numbers from 1 to',n,'is',sum)"
   ]
  },
  {
   "cell_type": "markdown",
   "id": "15f4084f",
   "metadata": {},
   "source": []
  },
  {
   "cell_type": "markdown",
   "id": "568e292a",
   "metadata": {},
   "source": []
  },
  {
   "cell_type": "code",
   "execution_count": 37,
   "id": "6b07836c",
   "metadata": {},
   "outputs": [
    {
     "name": "stdout",
     "output_type": "stream",
     "text": [
      "enter the number 6\n",
      "2\n",
      "4\n",
      "6\n",
      "8\n",
      "10\n",
      "12\n"
     ]
    }
   ],
   "source": [
    "10# Python Program to find First N Even Numbers \n",
    "\n",
    "\n",
    "#explanation- first n even number means starting from 2 and ending with n\n",
    "#so i=2\n",
    "\n",
    "i=2\n",
    "n=int(input('enter the number '))\n",
    "k=n*2\n",
    "while i<=k:\n",
    "    print(i)\n",
    "    i=i+2"
   ]
  },
  {
   "cell_type": "code",
   "execution_count": 39,
   "id": "5a43a430",
   "metadata": {},
   "outputs": [
    {
     "name": "stdout",
     "output_type": "stream",
     "text": [
      "enter the number 6\n",
      "2\n",
      "4\n",
      "6\n",
      "8\n",
      "10\n",
      "12\n"
     ]
    }
   ],
   "source": [
    "n=int(input('enter the number '))\n",
    "k=n*2\n",
    "for i in range(2,k+1,2):\n",
    "    print(i)"
   ]
  },
  {
   "cell_type": "markdown",
   "id": "d19b9ac3",
   "metadata": {},
   "source": []
  },
  {
   "cell_type": "markdown",
   "id": "7f0aada6",
   "metadata": {},
   "source": []
  },
  {
   "cell_type": "code",
   "execution_count": 40,
   "id": "fd6cf59f",
   "metadata": {},
   "outputs": [
    {
     "name": "stdout",
     "output_type": "stream",
     "text": [
      "enter the number 6\n",
      "The sum of first 6 even number is 42\n"
     ]
    }
   ],
   "source": [
    "11# Python Program to find Sum of First N Even Numbers\n",
    "\n",
    "i=2\n",
    "n=int(input('enter the number '))\n",
    "k=n*2\n",
    "sum=0\n",
    "while i<=k:\n",
    "    sum=sum+i\n",
    "    i=i+2\n",
    "print('The sum of first',n,'even number is',sum)"
   ]
  },
  {
   "cell_type": "code",
   "execution_count": 41,
   "id": "c6291def",
   "metadata": {},
   "outputs": [
    {
     "name": "stdout",
     "output_type": "stream",
     "text": [
      "enter the number 6\n",
      "The sum of first 6 even number is 42\n"
     ]
    }
   ],
   "source": [
    "n=int(input('enter the number '))\n",
    "k=n*2\n",
    "sum=0\n",
    "for i in range(2,k+1,2):\n",
    "    sum=sum+i\n",
    "print('The sum of first',n,'even number is',sum)"
   ]
  },
  {
   "cell_type": "markdown",
   "id": "993aa40a",
   "metadata": {},
   "source": []
  },
  {
   "cell_type": "markdown",
   "id": "1baeaf4b",
   "metadata": {},
   "source": []
  },
  {
   "cell_type": "code",
   "execution_count": 43,
   "id": "12f189c1",
   "metadata": {},
   "outputs": [
    {
     "name": "stdout",
     "output_type": "stream",
     "text": [
      "enter the number 6\n",
      "1\n",
      "3\n",
      "5\n",
      "7\n",
      "9\n",
      "11\n"
     ]
    }
   ],
   "source": [
    "12# Python Program to find First N odd Numbers \n",
    "\n",
    "i=1\n",
    "n=int(input('enter the number '))\n",
    "k=n*2\n",
    "while i<=k:\n",
    "    print(i)\n",
    "    i=i+2"
   ]
  },
  {
   "cell_type": "code",
   "execution_count": 45,
   "id": "36172163",
   "metadata": {},
   "outputs": [
    {
     "name": "stdout",
     "output_type": "stream",
     "text": [
      "enter the number 6\n",
      "1\n",
      "3\n",
      "5\n",
      "7\n",
      "9\n",
      "11\n"
     ]
    }
   ],
   "source": [
    "n=int(input('enter the number '))\n",
    "k=n*2\n",
    "for i in range(1,k+1,2):\n",
    "    print(i)"
   ]
  },
  {
   "cell_type": "markdown",
   "id": "70409d3c",
   "metadata": {},
   "source": []
  },
  {
   "cell_type": "markdown",
   "id": "0d3669a3",
   "metadata": {},
   "source": []
  },
  {
   "cell_type": "code",
   "execution_count": 46,
   "id": "e9906ec2",
   "metadata": {},
   "outputs": [
    {
     "name": "stdout",
     "output_type": "stream",
     "text": [
      "enter the number 6\n",
      "The sum of first 6 odd number is 36\n"
     ]
    }
   ],
   "source": [
    "13# Python Program to find Sum of First N odd Numbers \n",
    "\n",
    "i=1\n",
    "n=int(input('enter the number '))\n",
    "k=n*2\n",
    "sum=0\n",
    "while i<=k:\n",
    "    sum=sum+i\n",
    "    i=i+2\n",
    "print('The sum of first',n,'odd number is',sum)"
   ]
  },
  {
   "cell_type": "code",
   "execution_count": 47,
   "id": "10a9318d",
   "metadata": {},
   "outputs": [
    {
     "name": "stdout",
     "output_type": "stream",
     "text": [
      "enter the number 6\n",
      "The sum of first 6 odd number is 36\n"
     ]
    }
   ],
   "source": [
    "n=int(input('enter the number '))\n",
    "k=n*2\n",
    "sum=0\n",
    "for i in range(1,k+1,2):\n",
    "    sum=sum+i\n",
    "print('The sum of first',n,'odd number is',sum)"
   ]
  },
  {
   "cell_type": "markdown",
   "id": "b5f60979",
   "metadata": {},
   "source": []
  },
  {
   "cell_type": "markdown",
   "id": "3dcbd823",
   "metadata": {},
   "source": []
  },
  {
   "cell_type": "code",
   "execution_count": 49,
   "id": "fa33773d",
   "metadata": {},
   "outputs": [
    {
     "name": "stdout",
     "output_type": "stream",
     "text": [
      "enter the number 234\n",
      "The sum of the digit is 9\n"
     ]
    }
   ],
   "source": [
    "14# Python Program to find Sum of Digits of a Given Number\n",
    "\n",
    "n=int(input('enter the number '))\n",
    "sum=0\n",
    "while n>0:\n",
    "    sum=sum+n%10\n",
    "    n=n//10\n",
    "print('The sum of the digit is',sum)"
   ]
  },
  {
   "cell_type": "markdown",
   "id": "b16ef0a3",
   "metadata": {},
   "source": []
  },
  {
   "cell_type": "markdown",
   "id": "40301db8",
   "metadata": {},
   "source": []
  },
  {
   "cell_type": "code",
   "execution_count": 51,
   "id": "13e7c7e9",
   "metadata": {},
   "outputs": [
    {
     "name": "stdout",
     "output_type": "stream",
     "text": [
      "enter the number 234\n",
      "The sum of square of the given digits is 29\n"
     ]
    }
   ],
   "source": [
    "15# Python Program to find Sum of square of Digits of a Given Number\n",
    "\n",
    "n=int(input('enter the number '))\n",
    "sum=0\n",
    "while n>0:\n",
    "    sum=sum+(n%10)*(n%10)\n",
    "    n=n//10\n",
    "print('The sum of square of the given digits is',sum)"
   ]
  },
  {
   "cell_type": "markdown",
   "id": "58faa7fe",
   "metadata": {},
   "source": []
  },
  {
   "cell_type": "markdown",
   "id": "5bd626b5",
   "metadata": {},
   "source": []
  },
  {
   "cell_type": "code",
   "execution_count": 52,
   "id": "da389791",
   "metadata": {},
   "outputs": [
    {
     "name": "stdout",
     "output_type": "stream",
     "text": [
      "enter the number 234\n",
      "The sum of cube of the given digits is 99\n"
     ]
    }
   ],
   "source": [
    "16# Python Program to find Sum of cube of Digits of a Given Number\n",
    "\n",
    "n=int(input('enter the number '))\n",
    "sum=0\n",
    "while n>0:\n",
    "    sum=sum+(n%10)*(n%10)*(n%10)\n",
    "    n=n//10\n",
    "print('The sum of cube of the given digits is',sum)"
   ]
  },
  {
   "cell_type": "markdown",
   "id": "f1537e15",
   "metadata": {},
   "source": []
  },
  {
   "cell_type": "markdown",
   "id": "96be87f4",
   "metadata": {},
   "source": []
  },
  {
   "cell_type": "code",
   "execution_count": 3,
   "id": "f9002151",
   "metadata": {},
   "outputs": [
    {
     "name": "stdout",
     "output_type": "stream",
     "text": [
      "enter the number 234\n",
      "The product of the given digits is 24\n"
     ]
    }
   ],
   "source": [
    "17# Python Program to Find Product of Digits\n",
    "\n",
    "n=int(input('enter the number '))\n",
    "product=1\n",
    "while n>0:\n",
    "    product=product*(n%10)\n",
    "    n=n//10\n",
    "print('The product of the given digits is',product)"
   ]
  },
  {
   "cell_type": "markdown",
   "id": "fb20311e",
   "metadata": {},
   "source": []
  },
  {
   "cell_type": "markdown",
   "id": "e851e071",
   "metadata": {},
   "source": []
  },
  {
   "cell_type": "code",
   "execution_count": 1,
   "id": "6ccc913e",
   "metadata": {},
   "outputs": [
    {
     "name": "stdout",
     "output_type": "stream",
     "text": [
      "enter the number 234\n",
      "The product square of the given digits is 576\n"
     ]
    }
   ],
   "source": [
    "18# Python Program to Find Product of square of Digits\n",
    "\n",
    "n=int(input('enter the number '))\n",
    "product=1\n",
    "while n>0:\n",
    "    product=product*(n%10)*(n%10)\n",
    "    n=n//10\n",
    "print('The product square of the given digits is',product)"
   ]
  },
  {
   "cell_type": "markdown",
   "id": "a8163df1",
   "metadata": {},
   "source": []
  },
  {
   "cell_type": "markdown",
   "id": "c5fb0abb",
   "metadata": {},
   "source": []
  },
  {
   "cell_type": "code",
   "execution_count": 2,
   "id": "f0e45209",
   "metadata": {},
   "outputs": [
    {
     "name": "stdout",
     "output_type": "stream",
     "text": [
      "enter the number 234\n",
      "The product cube of the given digits is 13824\n"
     ]
    }
   ],
   "source": [
    "19# Python Program to Find Product of cube of Digits \n",
    "\n",
    "\n",
    "n=int(input('enter the number '))\n",
    "product=1\n",
    "while n>0:\n",
    "    product=product*(n%10)*(n%10)*(n%10)\n",
    "    n=n//10\n",
    "print('The product cube of the given digits is',product)"
   ]
  },
  {
   "cell_type": "markdown",
   "id": "9abb29e5",
   "metadata": {},
   "source": []
  },
  {
   "cell_type": "markdown",
   "id": "b1ac552a",
   "metadata": {},
   "source": []
  },
  {
   "cell_type": "code",
   "execution_count": 1,
   "id": "5767c0a7",
   "metadata": {},
   "outputs": [
    {
     "name": "stdout",
     "output_type": "stream",
     "text": [
      "enter the number= 234\n",
      "reverse of a  number= 432\n"
     ]
    }
   ],
   "source": [
    "20# Python Program to Reverse of a Number \n",
    "\n",
    "\n",
    "n=int(input('enter the number= '))\n",
    "rev=0\n",
    "while(n>0):\n",
    "    rev=(rev*10)+n%10\n",
    "    n=n//10\n",
    "print('reverse of a  number=',rev)"
   ]
  },
  {
   "cell_type": "markdown",
   "id": "6f3781e4",
   "metadata": {},
   "source": []
  },
  {
   "cell_type": "markdown",
   "id": "469deaa7",
   "metadata": {},
   "source": []
  },
  {
   "cell_type": "code",
   "execution_count": 4,
   "id": "b9bc8f17",
   "metadata": {},
   "outputs": [
    {
     "name": "stdout",
     "output_type": "stream",
     "text": [
      "enter the number to check 24\n",
      "24 is not a prime number\n"
     ]
    }
   ],
   "source": [
    "21# Prime Number in Python\n",
    "\n",
    "n=int(input('enter the number to check '))\n",
    "i=1\n",
    "count=0\n",
    "while i<=n:\n",
    "    if n%i==0:\n",
    "        count=count+1\n",
    "    i=i+1\n",
    "if count==2:\n",
    "    print(n,'is a prime number')\n",
    "else:\n",
    "    print(n,'is not a prime number')"
   ]
  },
  {
   "cell_type": "code",
   "execution_count": 8,
   "id": "71cdd939",
   "metadata": {},
   "outputs": [
    {
     "name": "stdout",
     "output_type": "stream",
     "text": [
      "enter the number to check 13\n",
      "13 is a prime number\n"
     ]
    }
   ],
   "source": [
    "n=int(input('enter the number to check '))\n",
    "count=0\n",
    "for i in range(1,n+1):\n",
    "    if n%i==0:\n",
    "        count=count+1\n",
    "if count==2:\n",
    "    print(n,'is a prime number')\n",
    "else:\n",
    "    print(n,'is not a prime number')"
   ]
  },
  {
   "cell_type": "markdown",
   "id": "9ea8bd80",
   "metadata": {},
   "source": []
  },
  {
   "cell_type": "markdown",
   "id": "43c51556",
   "metadata": {},
   "source": []
  },
  {
   "cell_type": "code",
   "execution_count": 32,
   "id": "7020b43d",
   "metadata": {},
   "outputs": [
    {
     "name": "stdout",
     "output_type": "stream",
     "text": [
      "enter the number 6\n",
      "The factorial of 6 is 720\n"
     ]
    }
   ],
   "source": [
    "22# Factorial Program in Python \n",
    "\n",
    "n=int(input('enter the number '))\n",
    "k=1\n",
    "for i in range(1,n+1):\n",
    "    k=k*i\n",
    "print('The factorial of',n,'is',k)"
   ]
  },
  {
   "cell_type": "markdown",
   "id": "e0c6dec5",
   "metadata": {},
   "source": []
  },
  {
   "cell_type": "markdown",
   "id": "3d548791",
   "metadata": {},
   "source": []
  },
  {
   "cell_type": "code",
   "execution_count": 36,
   "id": "5adc69b8",
   "metadata": {},
   "outputs": [
    {
     "name": "stdout",
     "output_type": "stream",
     "text": [
      "enter the number 2\n",
      "2 X 1 = 2\n",
      "2 X 2 = 4\n",
      "2 X 3 = 6\n",
      "2 X 4 = 8\n",
      "2 X 5 = 10\n",
      "2 X 6 = 12\n",
      "2 X 7 = 14\n",
      "2 X 8 = 16\n",
      "2 X 9 = 18\n",
      "2 X 10 = 20\n"
     ]
    }
   ],
   "source": [
    "23# Print Table of a N Number in Python\n",
    "\n",
    "\n",
    "n=int(input('enter the number '))\n",
    "t=10\n",
    "for i in range(1,t+1):\n",
    "    print(n,'X',i,'=',n*i)"
   ]
  },
  {
   "cell_type": "code",
   "execution_count": 37,
   "id": "f3b4685c",
   "metadata": {},
   "outputs": [
    {
     "name": "stdout",
     "output_type": "stream",
     "text": [
      "enter the number3\n",
      "3 X 1 = 3\n",
      "3 X 2 = 6\n",
      "3 X 3 = 9\n",
      "3 X 4 = 12\n",
      "3 X 5 = 15\n",
      "3 X 6 = 18\n",
      "3 X 7 = 21\n",
      "3 X 8 = 24\n",
      "3 X 9 = 27\n",
      "3 X 10 = 30\n"
     ]
    }
   ],
   "source": [
    "n=int(input('enter the number'))\n",
    "i=1\n",
    "t=10\n",
    "while i<=t:\n",
    "    print(n,'X',i,'=',n*i)\n",
    "    i=i+1"
   ]
  },
  {
   "cell_type": "code",
   "execution_count": 2,
   "id": "210f1031",
   "metadata": {},
   "outputs": [
    {
     "name": "stdout",
     "output_type": "stream",
     "text": [
      "enter the number to search 2\n",
      "count 4\n"
     ]
    }
   ],
   "source": [
    "24# Python Program to Count Frequency of a Number\n",
    "\n",
    "#if the list is already given\n",
    "a=[1,1,1,2,3,2,4,2,5,6,43,6,8,2]\n",
    "b=int(input('enter the number to search '))\n",
    "count=0\n",
    "for i in a:\n",
    "    if i==b:\n",
    "        count=count+1\n",
    "print('count',count)"
   ]
  },
  {
   "cell_type": "code",
   "execution_count": null,
   "id": "39a696e1",
   "metadata": {},
   "outputs": [],
   "source": [
    "#if the list is not given in the question\n",
    "\n",
    "a=int(input('enter the size of the list '))\n",
    "b=[]\n",
    "for i in range(a):\n",
    "    values=int(input('enter the value '))\n",
    "    b.append(values)\n",
    "print(b)\n",
    "\n",
    "c=int(input('enter the number to search'))\n",
    "count=0\n",
    "for i in b:\n",
    "    if c==i:\n",
    "        count=count+1\n",
    "print('the count of',c,'is',count)\n"
   ]
  },
  {
   "cell_type": "code",
   "execution_count": 2,
   "id": "0fc711ad",
   "metadata": {},
   "outputs": [
    {
     "name": "stdout",
     "output_type": "stream",
     "text": [
      "the maximum number in the list is 456\n",
      "the minimum numer in the list is 21\n"
     ]
    }
   ],
   "source": [
    "25# Find Max and Min Number in Python List\n",
    "\n",
    "#if the list is already given\n",
    "\n",
    "\n",
    "\n",
    "\n",
    "\n",
    "a=[23,34,56,89,90,21,456]\n",
    "print('the maximum number in the list is',max(a))\n",
    "print('the minimum numer in the list is',min(a))"
   ]
  },
  {
   "cell_type": "code",
   "execution_count": 5,
   "id": "6d8f1e1a",
   "metadata": {},
   "outputs": [
    {
     "name": "stdout",
     "output_type": "stream",
     "text": [
      "enter the size of the list 5\n",
      "enter the values 23\n",
      "enter the values 456\n",
      "enter the values 789\n",
      "enter the values 57\n",
      "enter the values 2345\n",
      "[23, 456, 789, 57, 2345]\n",
      "the maximum number in the list is 2345\n",
      "the minimum numer in the list is 23\n"
     ]
    }
   ],
   "source": [
    "#if the list is not given\n",
    "\n",
    "a=int(input('enter the size of the list '))\n",
    "b=[]\n",
    "for i in range(a):\n",
    "    values=int(input('enter the values '))\n",
    "    b.append(values)\n",
    "print(b)\n",
    "print('the maximum number in the list is',max(b))\n",
    "print('the minimum numer in the list is',min(b))"
   ]
  },
  {
   "cell_type": "code",
   "execution_count": 11,
   "id": "8f449ada",
   "metadata": {},
   "outputs": [
    {
     "name": "stdout",
     "output_type": "stream",
     "text": [
      "5\n",
      "4\n",
      "3\n",
      "2\n",
      "1\n"
     ]
    }
   ],
   "source": [
    "26# Python Program to Reverse the List \n",
    "\n",
    "#if the list is already given\n",
    "\n",
    "a=[1,2,3,4,5]\n",
    "b=1\n",
    "for i in range(len(a),b-1,-1):\n",
    "    print(i)\n",
    "\n",
    "\n"
   ]
  },
  {
   "cell_type": "code",
   "execution_count": 16,
   "id": "ebb4f2b8",
   "metadata": {},
   "outputs": [
    {
     "name": "stdout",
     "output_type": "stream",
     "text": [
      "enter the size of the list 5\n",
      "please add the values 34\n",
      "please add the values 56\n",
      "please add the values 78\n",
      "please add the values 89\n",
      "please add the values 23\n",
      "list before reverse is [34, 56, 78, 89, 23]\n",
      "the new updated list after reverse is [23, 89, 78, 56, 34]\n"
     ]
    }
   ],
   "source": [
    "#if the list is not given\n",
    "\n",
    "a=int(input('enter the size of the list '))\n",
    "b=[]\n",
    "for i in range(a):\n",
    "    values=int(input('please add the values '))\n",
    "    b.append(values)\n",
    "print('list before reverse is',b)\n",
    "\n",
    "b.reverse()\n",
    "print('the new updated list after reverse is',b)"
   ]
  },
  {
   "cell_type": "code",
   "execution_count": 18,
   "id": "8d0c99cc",
   "metadata": {},
   "outputs": [
    {
     "name": "stdout",
     "output_type": "stream",
     "text": [
      "enter the size of the list5\n",
      "enter the values for the list23\n",
      "enter the values for the list45\n",
      "enter the values for the list67\n",
      "enter the values for the list78\n",
      "enter the values for the list89\n",
      "original list created as a [23, 45, 67, 78, 89]\n",
      "maximum value in the list is 89\n",
      "second maximum value in the list is 78\n",
      "minimum value in the list is 23\n",
      "second minimum value in the list is 45\n"
     ]
    }
   ],
   "source": [
    "27# Python Program to Find Second Max, Second Min \n",
    "\n",
    "\n",
    "\n",
    "a=[]\n",
    "b=int(input('enter the size of the list'))\n",
    "for i in range(b):\n",
    "    value=int(input('enter the values for the list'))\n",
    "    a.append(value)\n",
    "print('original list created as a',a)\n",
    "a.sort()\n",
    "print('maximum value in the list is',a[-1])\n",
    "print('second maximum value in the list is',a[-2])\n",
    "print('minimum value in the list is',a[0])\n",
    "print('second minimum value in the list is',a[1])"
   ]
  },
  {
   "cell_type": "code",
   "execution_count": 19,
   "id": "5cad5115",
   "metadata": {},
   "outputs": [
    {
     "name": "stdout",
     "output_type": "stream",
     "text": [
      "enter the size of the list5\n",
      "enter the values for the list23\n",
      "enter the values for the list34\n",
      "enter the values for the list45\n",
      "enter the values for the list56\n",
      "enter the values for the list57\n",
      "original list created as a [23, 34, 45, 56, 57]\n",
      "the maximum value in the list is 57\n",
      "the minimum value in the list is 23\n",
      "the second maximum value in the list is 56\n",
      "the second minimum value in the list is 34\n"
     ]
    }
   ],
   "source": [
    "a=[]\n",
    "b=int(input('enter the size of the list'))\n",
    "for i in range(b):\n",
    "    value=int(input('enter the values for the list'))\n",
    "    a.append(value)\n",
    "print('original list created as a',a)\n",
    "maxval=max(a)\n",
    "minval=min(a)\n",
    "print('the maximum value in the list is',maxval)\n",
    "print('the minimum value in the list is',minval)\n",
    "\n",
    "a.remove(maxval)\n",
    "a.remove(minval)\n",
    "secondmaxval=max(a)\n",
    "secondminval=min(a)\n",
    "print('the second maximum value in the list is',secondmaxval)\n",
    "print('the second minimum value in the list is',secondminval)"
   ]
  },
  {
   "cell_type": "code",
   "execution_count": 3,
   "id": "d589c790",
   "metadata": {},
   "outputs": [
    {
     "name": "stdout",
     "output_type": "stream",
     "text": [
      "enter the size of the list 5\n",
      "enter the values for the list in ascending order 34\n",
      "enter the values for the list in ascending order 45\n",
      "enter the values for the list in ascending order 56\n",
      "enter the values for the list in ascending order 67\n",
      "enter the values for the list in ascending order 78\n",
      "the original list created for a is  [34, 45, 56, 67, 78]\n",
      "enter a number to search 89\n",
      "number not found\n"
     ]
    }
   ],
   "source": [
    "28# Binary Search in Python\n",
    "\n",
    "#if the list is not given in the question\n",
    "\n",
    "a=[]\n",
    "size=int(input('enter the size of the list '))\n",
    "for i in range(size):\n",
    "    values=int(input('enter the values for the list in ascending order '))\n",
    "    a.append(values)\n",
    "print('the original list created for a is ',a)\n",
    "key=int(input('enter a number to search '))\n",
    "\n",
    "def binarysearch(a,size,key):\n",
    "    i=0\n",
    "    j=len(a)-1\n",
    "    flag=0\n",
    "    while i<=j and flag==0:\n",
    "        mid=(i+j)//2\n",
    "        if a[mid]==key:\n",
    "            flag=1\n",
    "        if a[mid]<key:\n",
    "            i=mid+1\n",
    "        if a[mid]>key:\n",
    "            j=mid-1\n",
    "    if flag==1:\n",
    "        print('number found')\n",
    "    else:\n",
    "        print('number not found')\n",
    "        \n",
    "binarysearch(a,size,key)\n",
    "            "
   ]
  },
  {
   "cell_type": "code",
   "execution_count": 5,
   "id": "59aa3e43",
   "metadata": {},
   "outputs": [
    {
     "name": "stdout",
     "output_type": "stream",
     "text": [
      "enter a number to search 41\n",
      "sorry number not found\n"
     ]
    }
   ],
   "source": [
    "#if the list is already given\n",
    "a=[23, 34, 45, 56, 67, 78]\n",
    "b=len(a)\n",
    "key=int(input('enter a number to search '))\n",
    "\n",
    "def binsearch(a,b,key):\n",
    "    i=0\n",
    "    j=b-1\n",
    "    flag=0\n",
    "    while i<=j and flag==0:\n",
    "        mid=(i+j)//2\n",
    "        if a[mid]==key:\n",
    "            flag=1\n",
    "        if a[mid]>key:\n",
    "            j=mid-1\n",
    "        if a[mid]<key:\n",
    "            i=mid+2\n",
    "    if flag==1:\n",
    "        print('congratulations number found')\n",
    "    else:\n",
    "        print('sorry number not found')\n",
    "        \n",
    "binsearch(a,b,key)"
   ]
  },
  {
   "cell_type": "code",
   "execution_count": null,
   "id": "360f946f",
   "metadata": {},
   "outputs": [],
   "source": []
  },
  {
   "cell_type": "code",
   "execution_count": null,
   "id": "8c5d4d47",
   "metadata": {},
   "outputs": [],
   "source": []
  },
  {
   "cell_type": "code",
   "execution_count": null,
   "id": "40dea62a",
   "metadata": {},
   "outputs": [],
   "source": []
  },
  {
   "cell_type": "code",
   "execution_count": null,
   "id": "c29fcc9a",
   "metadata": {},
   "outputs": [],
   "source": []
  }
 ],
 "metadata": {
  "kernelspec": {
   "display_name": "Python 3 (ipykernel)",
   "language": "python",
   "name": "python3"
  },
  "language_info": {
   "codemirror_mode": {
    "name": "ipython",
    "version": 3
   },
   "file_extension": ".py",
   "mimetype": "text/x-python",
   "name": "python",
   "nbconvert_exporter": "python",
   "pygments_lexer": "ipython3",
   "version": "3.9.12"
  }
 },
 "nbformat": 4,
 "nbformat_minor": 5
}
